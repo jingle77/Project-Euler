{
  "nbformat": 4,
  "nbformat_minor": 0,
  "metadata": {
    "colab": {
      "provenance": []
    },
    "kernelspec": {
      "name": "python3",
      "display_name": "Python 3"
    },
    "language_info": {
      "name": "python"
    }
  },
  "cells": [
    {
      "cell_type": "markdown",
      "source": [
        "#### If we list all the natural numbers below 10 that are multiples of 3 or 5, we get 3, 5, 6 and 9. The sum of these multiples is 23. Find the sum of all the multiples of 3 or 5 below 1000."
      ],
      "metadata": {
        "id": "i7pIcOk2Z4AB"
      }
    },
    {
      "cell_type": "code",
      "source": [
        "multiples_sum = 0\n",
        "\n",
        "for i in range(1000):\n",
        "  if ((i % 3 == 0) or (i % 5 == 0)):\n",
        "    multiples_sum += i\n",
        "\n",
        "multiples_sum"
      ],
      "metadata": {
        "colab": {
          "base_uri": "https://localhost:8080/"
        },
        "id": "AkEXe5u9bLjm",
        "outputId": "d4b64727-3c0f-44b9-b903-152a358be237"
      },
      "execution_count": 17,
      "outputs": [
        {
          "output_type": "execute_result",
          "data": {
            "text/plain": [
              "233168"
            ]
          },
          "metadata": {},
          "execution_count": 17
        }
      ]
    }
  ]
}